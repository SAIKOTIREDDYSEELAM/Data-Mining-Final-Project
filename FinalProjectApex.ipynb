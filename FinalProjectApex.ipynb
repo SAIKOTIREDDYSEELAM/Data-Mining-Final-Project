{
 "cells": [
  {
   "cell_type": "markdown",
   "id": "c7e88743",
   "metadata": {},
   "source": [
    "# Data Mining Final Project - Team APEX\n",
    "\n",
    "\n",
    "## WINE QUALITY PREDICTION \n",
    "\n",
    "### Authored by :\n",
    "\n",
    "#### Team Name : APEX\n",
    "\n",
    "VANDANA SIRPA         - U87155086\n",
    "\n",
    "SRI VENKATESH KUMAR SATTU - U01719657\n",
    "\n",
    "SAI KOTI REDDY SEELAM  - U67287368\n",
    "\n",
    "KEERTHI BAI REDDY - U91888933\n",
    "\n",
    "SHEERKA SAI NIKHITHA - U19250380\n",
    "\n",
    "PRASHANTH REDDY THUDI - U52715459\n",
    "\n",
    "\n",
    "## Introduction and Overview\n",
    "\n",
    "The various chemical components in wine give the wine its distinct taste and aroma. Appreciation of wine quality involves moving beyond our innate preferences. These physicochemical properties can be used to model wine quality. The price of wine depends on a rather abstract concept of wine appreciation by wine tasters, opinion among whom may have a high degree of variability. Pricing of wine depends on such a volatile factor to some extent. \n",
    "\n",
    "Our objective is in this project is to create a Machine Learning models that can predict the quality of the wine with the help of the chemical properties involved in it.\n",
    "\n",
    "\n",
    "## Business Objective\n",
    "\n",
    "Our target is to predict the target variable \"Quality\" based on its ranking on performing classification models."
   ]
  },
  {
   "cell_type": "markdown",
   "id": "b7a75c11",
   "metadata": {},
   "source": [
    "## Import Libraries"
   ]
  },
  {
   "cell_type": "code",
   "execution_count": 91,
   "id": "fdbc8791",
   "metadata": {},
   "outputs": [],
   "source": [
    "import pandas as pd\n",
    "import numpy as np\n",
    "import matplotlib.pyplot as plt\n",
    "import seaborn as sns\n",
    "import plotly.express as px\n",
    "\n",
    "from sklearn.model_selection import train_test_split,cross_val_score, GridSearchCV\n",
    "from sklearn import preprocessing \n",
    "from sklearn.neighbors import KNeighborsClassifier\n",
    "from sklearn.tree import DecisionTreeClassifier\n",
    "from sklearn.ensemble import RandomForestClassifier, GradientBoostingClassifier, AdaBoostClassifier\n",
    "from xgboost import XGBClassifier\n",
    "from sklearn.metrics import confusion_matrix, classification_report\n",
    "\n",
    "import warnings\n",
    "warnings.filterwarnings('ignore')"
   ]
  },
  {
   "cell_type": "markdown",
   "id": "e0c951e6",
   "metadata": {},
   "source": [
    "## Read Data"
   ]
  },
  {
   "cell_type": "code",
   "execution_count": 92,
   "id": "c5f61ece",
   "metadata": {},
   "outputs": [],
   "source": [
    "df = pd.read_csv(\"winequality-white.csv\")"
   ]
  },
  {
   "cell_type": "markdown",
   "id": "c640629e",
   "metadata": {},
   "source": [
    "## Understanding Data"
   ]
  },
  {
   "cell_type": "code",
   "execution_count": 93,
   "id": "177b87c7",
   "metadata": {},
   "outputs": [
    {
     "name": "stdout",
     "output_type": "stream",
     "text": [
      "Rows, columns: (4898, 12)\n"
     ]
    },
    {
     "data": {
      "text/html": [
       "<div>\n",
       "<style scoped>\n",
       "    .dataframe tbody tr th:only-of-type {\n",
       "        vertical-align: middle;\n",
       "    }\n",
       "\n",
       "    .dataframe tbody tr th {\n",
       "        vertical-align: top;\n",
       "    }\n",
       "\n",
       "    .dataframe thead th {\n",
       "        text-align: right;\n",
       "    }\n",
       "</style>\n",
       "<table border=\"1\" class=\"dataframe\">\n",
       "  <thead>\n",
       "    <tr style=\"text-align: right;\">\n",
       "      <th></th>\n",
       "      <th>fixed acidity</th>\n",
       "      <th>volatile acidity</th>\n",
       "      <th>citric acid</th>\n",
       "      <th>residual sugar</th>\n",
       "      <th>chlorides</th>\n",
       "      <th>free sulfur dioxide</th>\n",
       "      <th>total sulfur dioxide</th>\n",
       "      <th>density</th>\n",
       "      <th>pH</th>\n",
       "      <th>sulphates</th>\n",
       "      <th>alcohol</th>\n",
       "      <th>quality</th>\n",
       "    </tr>\n",
       "  </thead>\n",
       "  <tbody>\n",
       "    <tr>\n",
       "      <th>0</th>\n",
       "      <td>7.0</td>\n",
       "      <td>0.27</td>\n",
       "      <td>0.36</td>\n",
       "      <td>20.7</td>\n",
       "      <td>0.045</td>\n",
       "      <td>45.0</td>\n",
       "      <td>170.0</td>\n",
       "      <td>1.0010</td>\n",
       "      <td>3.00</td>\n",
       "      <td>0.45</td>\n",
       "      <td>8.8</td>\n",
       "      <td>6</td>\n",
       "    </tr>\n",
       "    <tr>\n",
       "      <th>1</th>\n",
       "      <td>6.3</td>\n",
       "      <td>0.30</td>\n",
       "      <td>0.34</td>\n",
       "      <td>1.6</td>\n",
       "      <td>0.049</td>\n",
       "      <td>14.0</td>\n",
       "      <td>132.0</td>\n",
       "      <td>0.9940</td>\n",
       "      <td>3.30</td>\n",
       "      <td>0.49</td>\n",
       "      <td>9.5</td>\n",
       "      <td>6</td>\n",
       "    </tr>\n",
       "    <tr>\n",
       "      <th>2</th>\n",
       "      <td>8.1</td>\n",
       "      <td>0.28</td>\n",
       "      <td>0.40</td>\n",
       "      <td>6.9</td>\n",
       "      <td>0.050</td>\n",
       "      <td>30.0</td>\n",
       "      <td>97.0</td>\n",
       "      <td>0.9951</td>\n",
       "      <td>3.26</td>\n",
       "      <td>0.44</td>\n",
       "      <td>10.1</td>\n",
       "      <td>6</td>\n",
       "    </tr>\n",
       "    <tr>\n",
       "      <th>3</th>\n",
       "      <td>7.2</td>\n",
       "      <td>0.23</td>\n",
       "      <td>0.32</td>\n",
       "      <td>8.5</td>\n",
       "      <td>0.058</td>\n",
       "      <td>47.0</td>\n",
       "      <td>186.0</td>\n",
       "      <td>0.9956</td>\n",
       "      <td>3.19</td>\n",
       "      <td>0.40</td>\n",
       "      <td>9.9</td>\n",
       "      <td>6</td>\n",
       "    </tr>\n",
       "    <tr>\n",
       "      <th>4</th>\n",
       "      <td>7.2</td>\n",
       "      <td>0.23</td>\n",
       "      <td>0.32</td>\n",
       "      <td>8.5</td>\n",
       "      <td>0.058</td>\n",
       "      <td>47.0</td>\n",
       "      <td>186.0</td>\n",
       "      <td>0.9956</td>\n",
       "      <td>3.19</td>\n",
       "      <td>0.40</td>\n",
       "      <td>9.9</td>\n",
       "      <td>6</td>\n",
       "    </tr>\n",
       "  </tbody>\n",
       "</table>\n",
       "</div>"
      ],
      "text/plain": [
       "   fixed acidity  volatile acidity  citric acid  residual sugar  chlorides  \\\n",
       "0            7.0              0.27         0.36            20.7      0.045   \n",
       "1            6.3              0.30         0.34             1.6      0.049   \n",
       "2            8.1              0.28         0.40             6.9      0.050   \n",
       "3            7.2              0.23         0.32             8.5      0.058   \n",
       "4            7.2              0.23         0.32             8.5      0.058   \n",
       "\n",
       "   free sulfur dioxide  total sulfur dioxide  density    pH  sulphates  \\\n",
       "0                 45.0                 170.0   1.0010  3.00       0.45   \n",
       "1                 14.0                 132.0   0.9940  3.30       0.49   \n",
       "2                 30.0                  97.0   0.9951  3.26       0.44   \n",
       "3                 47.0                 186.0   0.9956  3.19       0.40   \n",
       "4                 47.0                 186.0   0.9956  3.19       0.40   \n",
       "\n",
       "   alcohol  quality  \n",
       "0      8.8        6  \n",
       "1      9.5        6  \n",
       "2     10.1        6  \n",
       "3      9.9        6  \n",
       "4      9.9        6  "
      ]
     },
     "execution_count": 93,
     "metadata": {},
     "output_type": "execute_result"
    }
   ],
   "source": [
    "print(\"Rows, columns: \" + str(df.shape))\n",
    "df.head()"
   ]
  },
  {
   "cell_type": "markdown",
   "id": "fef803b2",
   "metadata": {},
   "source": [
    "## Missing Values"
   ]
  },
  {
   "cell_type": "code",
   "execution_count": 94,
   "id": "5841188f",
   "metadata": {},
   "outputs": [
    {
     "name": "stdout",
     "output_type": "stream",
     "text": [
      "fixed acidity           0\n",
      "volatile acidity        0\n",
      "citric acid             0\n",
      "residual sugar          0\n",
      "chlorides               0\n",
      "free sulfur dioxide     0\n",
      "total sulfur dioxide    0\n",
      "density                 0\n",
      "pH                      0\n",
      "sulphates               0\n",
      "alcohol                 0\n",
      "quality                 0\n",
      "dtype: int64\n"
     ]
    }
   ],
   "source": [
    "# Missing Values\n",
    "print(df.isna().sum())"
   ]
  },
  {
   "cell_type": "markdown",
   "id": "8b67dee6",
   "metadata": {},
   "source": [
    "## Unique Values in target variable"
   ]
  },
  {
   "cell_type": "code",
   "execution_count": 95,
   "id": "a3dd7105",
   "metadata": {},
   "outputs": [
    {
     "data": {
      "text/plain": [
       "array([6, 5, 7, 8, 4, 3, 9], dtype=int64)"
      ]
     },
     "execution_count": 95,
     "metadata": {},
     "output_type": "execute_result"
    }
   ],
   "source": [
    "#Checking the unique values in the target variable\n",
    "df[\"quality\"].unique()"
   ]
  },
  {
   "cell_type": "code",
   "execution_count": 96,
   "id": "9c80449b",
   "metadata": {},
   "outputs": [
    {
     "data": {
      "text/plain": [
       "<AxesSubplot:>"
      ]
     },
     "execution_count": 96,
     "metadata": {},
     "output_type": "execute_result"
    },
    {
     "data": {
      "image/png": "[encoded data removed]",
      "text/plain": [
       "<Figure size 1080x720 with 2 Axes>"
      ]
     },
     "metadata": {
      "needs_background": "light"
     },
     "output_type": "display_data"
    }
   ],
   "source": [
    "corr = df.corr()\n",
    "plt.figure(figsize = (15,10))\n",
    "sns.heatmap(corr, xticklabels=corr.columns, yticklabels=corr.columns, annot=True, cmap=sns.diverging_palette(220, 20, as_cmap=True))"
   ]
  },
  {
   "cell_type": "markdown",
   "id": "7483a33e",
   "metadata": {},
   "source": [
    "## Normalize Data"
   ]
  },
  {
   "cell_type": "code",
   "execution_count": 97,
   "id": "c9a5faf4",
   "metadata": {},
   "outputs": [],
   "source": [
    "\n",
    "from sklearn.preprocessing import MinMaxScaler\n",
    "scaler = MinMaxScaler()\n",
    "\n",
    "min_max_df = scaler.fit_transform(df.drop(\"quality\", axis = 1))\n",
    "min_max_df = pd.DataFrame(min_max_df, columns = df.columns[:-1])"
   ]
  },
  {
   "cell_type": "code",
   "execution_count": 98,
   "id": "b93af8df",
   "metadata": {},
   "outputs": [
    {
     "data": {
      "text/html": [
       "<div>\n",
       "<style scoped>\n",
       "    .dataframe tbody tr th:only-of-type {\n",
       "        vertical-align: middle;\n",
       "    }\n",
       "\n",
       "    .dataframe tbody tr th {\n",
       "        vertical-align: top;\n",
       "    }\n",
       "\n",
       "    .dataframe thead th {\n",
       "        text-align: right;\n",
       "    }\n",
       "</style>\n",
       "<table border=\"1\" class=\"dataframe\">\n",
       "  <thead>\n",
       "    <tr style=\"text-align: right;\">\n",
       "      <th></th>\n",
       "      <th>fixed acidity</th>\n",
       "      <th>volatile acidity</th>\n",
       "      <th>citric acid</th>\n",
       "      <th>residual sugar</th>\n",
       "      <th>chlorides</th>\n",
       "      <th>free sulfur dioxide</th>\n",
       "      <th>total sulfur dioxide</th>\n",
       "      <th>density</th>\n",
       "      <th>pH</th>\n",
       "      <th>sulphates</th>\n",
       "      <th>alcohol</th>\n",
       "    </tr>\n",
       "  </thead>\n",
       "  <tbody>\n",
       "    <tr>\n",
       "      <th>0</th>\n",
       "      <td>0.307692</td>\n",
       "      <td>0.186275</td>\n",
       "      <td>0.216867</td>\n",
       "      <td>0.308282</td>\n",
       "      <td>0.106825</td>\n",
       "      <td>0.149826</td>\n",
       "      <td>0.373550</td>\n",
       "      <td>0.267785</td>\n",
       "      <td>0.254545</td>\n",
       "      <td>0.267442</td>\n",
       "      <td>0.129032</td>\n",
       "    </tr>\n",
       "    <tr>\n",
       "      <th>1</th>\n",
       "      <td>0.240385</td>\n",
       "      <td>0.215686</td>\n",
       "      <td>0.204819</td>\n",
       "      <td>0.015337</td>\n",
       "      <td>0.118694</td>\n",
       "      <td>0.041812</td>\n",
       "      <td>0.285383</td>\n",
       "      <td>0.132832</td>\n",
       "      <td>0.527273</td>\n",
       "      <td>0.313953</td>\n",
       "      <td>0.241935</td>\n",
       "    </tr>\n",
       "    <tr>\n",
       "      <th>2</th>\n",
       "      <td>0.413462</td>\n",
       "      <td>0.196078</td>\n",
       "      <td>0.240964</td>\n",
       "      <td>0.096626</td>\n",
       "      <td>0.121662</td>\n",
       "      <td>0.097561</td>\n",
       "      <td>0.204176</td>\n",
       "      <td>0.154039</td>\n",
       "      <td>0.490909</td>\n",
       "      <td>0.255814</td>\n",
       "      <td>0.338710</td>\n",
       "    </tr>\n",
       "    <tr>\n",
       "      <th>3</th>\n",
       "      <td>0.326923</td>\n",
       "      <td>0.147059</td>\n",
       "      <td>0.192771</td>\n",
       "      <td>0.121166</td>\n",
       "      <td>0.145401</td>\n",
       "      <td>0.156794</td>\n",
       "      <td>0.410673</td>\n",
       "      <td>0.163678</td>\n",
       "      <td>0.427273</td>\n",
       "      <td>0.209302</td>\n",
       "      <td>0.306452</td>\n",
       "    </tr>\n",
       "    <tr>\n",
       "      <th>4</th>\n",
       "      <td>0.326923</td>\n",
       "      <td>0.147059</td>\n",
       "      <td>0.192771</td>\n",
       "      <td>0.121166</td>\n",
       "      <td>0.145401</td>\n",
       "      <td>0.156794</td>\n",
       "      <td>0.410673</td>\n",
       "      <td>0.163678</td>\n",
       "      <td>0.427273</td>\n",
       "      <td>0.209302</td>\n",
       "      <td>0.306452</td>\n",
       "    </tr>\n",
       "  </tbody>\n",
       "</table>\n",
       "</div>"
      ],
      "text/plain": [
       "   fixed acidity  volatile acidity  citric acid  residual sugar  chlorides  \\\n",
       "0       0.307692          0.186275     0.216867        0.308282   0.106825   \n",
       "1       0.240385          0.215686     0.204819        0.015337   0.118694   \n",
       "2       0.413462          0.196078     0.240964        0.096626   0.121662   \n",
       "3       0.326923          0.147059     0.192771        0.121166   0.145401   \n",
       "4       0.326923          0.147059     0.192771        0.121166   0.145401   \n",
       "\n",
       "   free sulfur dioxide  total sulfur dioxide   density        pH  sulphates  \\\n",
       "0             0.149826              0.373550  0.267785  0.254545   0.267442   \n",
       "1             0.041812              0.285383  0.132832  0.527273   0.313953   \n",
       "2             0.097561              0.204176  0.154039  0.490909   0.255814   \n",
       "3             0.156794              0.410673  0.163678  0.427273   0.209302   \n",
       "4             0.156794              0.410673  0.163678  0.427273   0.209302   \n",
       "\n",
       "    alcohol  \n",
       "0  0.129032  \n",
       "1  0.241935  \n",
       "2  0.338710  \n",
       "3  0.306452  \n",
       "4  0.306452  "
      ]
     },
     "execution_count": 98,
     "metadata": {},
     "output_type": "execute_result"
    }
   ],
   "source": [
    "#normalized dataframe\n",
    "min_max_df.head()"
   ]
  },
  {
   "cell_type": "code",
   "execution_count": 99,
   "id": "8a1a248c",
   "metadata": {},
   "outputs": [],
   "source": [
    "# Create Classification version of target variable\n",
    "df['goodquality'] = [1 if x >= 6 else 0 for x in df['quality']]\n",
    "# Separate feature variables and target variable\n",
    "X = df.drop(['quality','goodquality'], axis = 1)\n",
    "y = df['goodquality']"
   ]
  },
  {
   "cell_type": "code",
   "execution_count": 100,
   "id": "5079d2fe",
   "metadata": {},
   "outputs": [
    {
     "data": {
      "text/plain": [
       "1    3258\n",
       "0    1640\n",
       "Name: goodquality, dtype: int64"
      ]
     },
     "execution_count": 100,
     "metadata": {},
     "output_type": "execute_result"
    }
   ],
   "source": [
    "df['goodquality'].value_counts()"
   ]
  },
  {
   "cell_type": "markdown",
   "id": "cf65496c",
   "metadata": {},
   "source": [
    "### Now I will use imblearn library for the oversampling of the data, so our model is more generalized"
   ]
  },
  {
   "cell_type": "code",
   "execution_count": 101,
   "id": "530f003f",
   "metadata": {},
   "outputs": [],
   "source": [
    "from imblearn.over_sampling import SMOTE\n",
    "oversample = SMOTE()\n",
    "X, y = oversample.fit_resample(X, y)"
   ]
  },
  {
   "cell_type": "code",
   "execution_count": 102,
   "id": "0b9293b6",
   "metadata": {},
   "outputs": [
    {
     "data": {
      "text/plain": [
       "((6516, 11), (6516,))"
      ]
     },
     "execution_count": 102,
     "metadata": {},
     "output_type": "execute_result"
    }
   ],
   "source": [
    "X.shape, y.shape"
   ]
  },
  {
   "cell_type": "code",
   "execution_count": 103,
   "id": "4536b8d5",
   "metadata": {},
   "outputs": [
    {
     "data": {
      "text/plain": [
       "1    3258\n",
       "0    3258\n",
       "Name: goodquality, dtype: int64"
      ]
     },
     "execution_count": 103,
     "metadata": {},
     "output_type": "execute_result"
    }
   ],
   "source": [
    "# See proportion of good vs bad wines\n",
    "y.value_counts()"
   ]
  },
  {
   "cell_type": "markdown",
   "id": "3d9a884d",
   "metadata": {},
   "source": [
    "## Our target variable is now balanced"
   ]
  },
  {
   "cell_type": "markdown",
   "id": "2ad794a7",
   "metadata": {},
   "source": [
    "## Split the Data"
   ]
  },
  {
   "cell_type": "code",
   "execution_count": 104,
   "id": "58c647e7",
   "metadata": {},
   "outputs": [],
   "source": [
    "X_train, X_test, y_train, y_test = train_test_split(X, y, test_size=0.3, random_state= 1)"
   ]
  },
  {
   "cell_type": "markdown",
   "id": "437e594c",
   "metadata": {},
   "source": [
    "## K Nearest Neighbour (K-NN)"
   ]
  },
  {
   "cell_type": "code",
   "execution_count": 105,
   "id": "4761ff09",
   "metadata": {},
   "outputs": [
    {
     "name": "stdout",
     "output_type": "stream",
     "text": [
      "              precision    recall  f1-score   support\n",
      "\n",
      "           0       0.71      0.81      0.75       960\n",
      "           1       0.79      0.67      0.73       995\n",
      "\n",
      "    accuracy                           0.74      1955\n",
      "   macro avg       0.75      0.74      0.74      1955\n",
      "weighted avg       0.75      0.74      0.74      1955\n",
      "\n"
     ]
    }
   ],
   "source": [
    "knn = KNeighborsClassifier()\n",
    "knn.fit(X_train, y_train)\n",
    "y_pred = knn.predict(X_test)\n",
    "print(classification_report(y_test, y_pred))"
   ]
  },
  {
   "cell_type": "markdown",
   "id": "99050e93",
   "metadata": {},
   "source": [
    "## K Nearest Neighbour(K-NN) model with hyperparameter Tuning"
   ]
  },
  {
   "cell_type": "code",
   "execution_count": 106,
   "id": "64a0e0d4",
   "metadata": {},
   "outputs": [
    {
     "name": "stdout",
     "output_type": "stream",
     "text": [
      "Fitting 10 folds for each of 36 candidates, totalling 360 fits\n"
     ]
    },
    {
     "data": {
      "text/plain": [
       "{'metric': 'manhattan', 'n_neighbors': 5, 'weights': 'distance'}"
      ]
     },
     "execution_count": 106,
     "metadata": {},
     "output_type": "execute_result"
    }
   ],
   "source": [
    "grid_params = { 'n_neighbors' : [5,7,9,11,13,15],\n",
    "               'weights' : ['uniform','distance'],\n",
    "               'metric' : ['minkowski','euclidean','manhattan']}\n",
    "knn_gs = GridSearchCV(KNeighborsClassifier(), grid_params, verbose = 1, cv=10, n_jobs = -1)\n",
    "kclassifer = knn_gs.fit(X_train, y_train)\n",
    "kclassifer.best_score_\n",
    "kclassifer.best_params_"
   ]
  },
  {
   "cell_type": "code",
   "execution_count": 107,
   "id": "fafbe47f",
   "metadata": {},
   "outputs": [
    {
     "name": "stdout",
     "output_type": "stream",
     "text": [
      "              precision    recall  f1-score   support\n",
      "\n",
      "           0       0.78      0.89      0.83       960\n",
      "           1       0.88      0.76      0.81       995\n",
      "\n",
      "    accuracy                           0.82      1955\n",
      "   macro avg       0.83      0.82      0.82      1955\n",
      "weighted avg       0.83      0.82      0.82      1955\n",
      "\n"
     ]
    }
   ],
   "source": [
    "knn = KNeighborsClassifier(n_neighbors = 5, weights = 'distance',metric = 'manhattan')\n",
    "knn.fit(X_train, y_train)\n",
    "y_knn = knn.predict(X_test)\n",
    "print(classification_report(y_test, y_knn))"
   ]
  },
  {
   "cell_type": "code",
   "execution_count": 108,
   "id": "d2044e7a",
   "metadata": {},
   "outputs": [
    {
     "data": {
      "text/plain": [
       "array([[853, 107],\n",
       "       [242, 753]], dtype=int64)"
      ]
     },
     "execution_count": 108,
     "metadata": {},
     "output_type": "execute_result"
    }
   ],
   "source": [
    "confusion_matrix(y_test, y_knn)"
   ]
  },
  {
   "cell_type": "markdown",
   "id": "0e04f25f",
   "metadata": {},
   "source": [
    "## Decision Tree Classifier"
   ]
  },
  {
   "cell_type": "code",
   "execution_count": 109,
   "id": "947e569c",
   "metadata": {},
   "outputs": [
    {
     "name": "stdout",
     "output_type": "stream",
     "text": [
      "              precision    recall  f1-score   support\n",
      "\n",
      "           0       0.79      0.79      0.79       960\n",
      "           1       0.80      0.79      0.80       995\n",
      "\n",
      "    accuracy                           0.79      1955\n",
      "   macro avg       0.79      0.79      0.79      1955\n",
      "weighted avg       0.79      0.79      0.79      1955\n",
      "\n"
     ]
    }
   ],
   "source": [
    "dtree = DecisionTreeClassifier(random_state=1)\n",
    "dtree.fit(X_train, y_train)\n",
    "y_pred = dtree.predict(X_test)\n",
    "print(classification_report(y_test, y_pred))"
   ]
  },
  {
   "cell_type": "markdown",
   "id": "99dfad2d",
   "metadata": {},
   "source": [
    "## Decision Tree with Hyperparameter Tuning"
   ]
  },
  {
   "cell_type": "code",
   "execution_count": 110,
   "id": "ba3f995a",
   "metadata": {},
   "outputs": [
    {
     "name": "stdout",
     "output_type": "stream",
     "text": [
      "score:  0.7877576874352182\n",
      "parameters:  {'max_depth': 20, 'min_impurity_decrease': 0.0003, 'min_samples_split': 2}\n"
     ]
    }
   ],
   "source": [
    "k_fold = 10\n",
    "# Start with an initial guess for parameters\n",
    "param_grid = {\n",
    "    'max_depth': [2, 5, 10, 20], \n",
    "    'min_samples_split': [2, 5, 10, 30, 50, 70], \n",
    "    'min_impurity_decrease': [0, 0.0003, 0.001]\n",
    "}\n",
    "gridSearch = GridSearchCV(DecisionTreeClassifier(random_state=1), param_grid, cv=k_fold,\n",
    "                          n_jobs=-1)  # n_jobs=-1 will utilize all available CPUs \n",
    "gridSearch.fit(X_train, y_train)\n",
    "print('score: ', gridSearch.best_score_)\n",
    "print('parameters: ', gridSearch.best_params_)"
   ]
  },
  {
   "cell_type": "code",
   "execution_count": 111,
   "id": "87ca70f1",
   "metadata": {},
   "outputs": [
    {
     "name": "stdout",
     "output_type": "stream",
     "text": [
      "              precision    recall  f1-score   support\n",
      "\n",
      "           0       0.85      0.87      0.86       960\n",
      "           1       0.87      0.85      0.86       995\n",
      "\n",
      "    accuracy                           0.86      1955\n",
      "   macro avg       0.86      0.86      0.86      1955\n",
      "weighted avg       0.86      0.86      0.86      1955\n",
      "\n"
     ]
    }
   ],
   "source": [
    "dt = DecisionTreeClassifier(max_depth= 20, min_impurity_decrease= 0.0003, min_samples_split= 2)\n",
    "dt.fit(X_train, y_train)\n",
    "y_dt = rf.predict(X_test)\n",
    "print(classification_report(y_test, y_dt))"
   ]
  },
  {
   "cell_type": "code",
   "execution_count": 112,
   "id": "1a4e6e2d",
   "metadata": {},
   "outputs": [
    {
     "data": {
      "text/plain": [
       "array([[839, 121],\n",
       "       [150, 845]], dtype=int64)"
      ]
     },
     "execution_count": 112,
     "metadata": {},
     "output_type": "execute_result"
    }
   ],
   "source": [
    "confusion_matrix(y_test, y_dt)"
   ]
  },
  {
   "cell_type": "markdown",
   "id": "6b146319",
   "metadata": {},
   "source": [
    "## Random Forest Classifier"
   ]
  },
  {
   "cell_type": "code",
   "execution_count": 113,
   "id": "d0073636",
   "metadata": {},
   "outputs": [
    {
     "name": "stdout",
     "output_type": "stream",
     "text": [
      "              precision    recall  f1-score   support\n",
      "\n",
      "           0       0.85      0.88      0.86       960\n",
      "           1       0.88      0.85      0.86       995\n",
      "\n",
      "    accuracy                           0.86      1955\n",
      "   macro avg       0.86      0.86      0.86      1955\n",
      "weighted avg       0.87      0.86      0.86      1955\n",
      "\n"
     ]
    }
   ],
   "source": [
    "rForest = RandomForestClassifier(random_state=1)\n",
    "rForest.fit(X_train, y_train)\n",
    "y_pred = rForest.predict(X_test)\n",
    "print(classification_report(y_test, y_pred))"
   ]
  },
  {
   "cell_type": "markdown",
   "id": "4f34a0a6",
   "metadata": {},
   "source": [
    "## Random Forest Classifier with Hyperparameter Tuning"
   ]
  },
  {
   "cell_type": "code",
   "execution_count": 114,
   "id": "a90f512f",
   "metadata": {},
   "outputs": [
    {
     "name": "stdout",
     "output_type": "stream",
     "text": [
      "score:  0.8537578217973818\n",
      "parameters:  {'max_depth': 30, 'min_impurity_decrease': 0, 'min_samples_split': 2, 'n_estimators': 200}\n"
     ]
    }
   ],
   "source": [
    "k_fold = 10\n",
    "# Start with an initial guess for parameters\n",
    "param_grid = {\n",
    "    'max_depth': [2, 5, 10, 20, 30, 40], \n",
    "    'min_samples_split': [2, 5, 10], \n",
    "    'min_impurity_decrease': [0, 0.0003,0.001], \n",
    "    'n_estimators' : [100,150,200]\n",
    "}\n",
    "gridSearch = GridSearchCV(RandomForestClassifier(random_state=1), param_grid, cv=k_fold,\n",
    "                          n_jobs=-1)  # n_jobs=-1 will utilize all available CPUs \n",
    "gridSearch.fit(X_train, y_train)\n",
    "print('score: ', gridSearch.best_score_)\n",
    "print('parameters: ', gridSearch.best_params_)"
   ]
  },
  {
   "cell_type": "code",
   "execution_count": 115,
   "id": "96bd22fe",
   "metadata": {},
   "outputs": [
    {
     "name": "stdout",
     "output_type": "stream",
     "text": [
      "              precision    recall  f1-score   support\n",
      "\n",
      "           0       0.85      0.88      0.87       960\n",
      "           1       0.88      0.85      0.87       995\n",
      "\n",
      "    accuracy                           0.87      1955\n",
      "   macro avg       0.87      0.87      0.87      1955\n",
      "weighted avg       0.87      0.87      0.87      1955\n",
      "\n"
     ]
    }
   ],
   "source": [
    "rf = RandomForestClassifier(max_depth= 30, min_impurity_decrease= 0, min_samples_split= 2, n_estimators = 200)\n",
    "rf.fit(X_train, y_train)\n",
    "y_rf = rf.predict(X_test)\n",
    "print(classification_report(y_test, y_rf))"
   ]
  },
  {
   "cell_type": "code",
   "execution_count": 116,
   "id": "3dd46d9c",
   "metadata": {},
   "outputs": [
    {
     "data": {
      "text/plain": [
       "array([[848, 112],\n",
       "       [151, 844]], dtype=int64)"
      ]
     },
     "execution_count": 116,
     "metadata": {},
     "output_type": "execute_result"
    }
   ],
   "source": [
    "confusion_matrix(y_test, y_rf)"
   ]
  },
  {
   "cell_type": "markdown",
   "id": "409809c8",
   "metadata": {},
   "source": [
    "## ADABoost Classification"
   ]
  },
  {
   "cell_type": "code",
   "execution_count": 117,
   "id": "867e836d",
   "metadata": {},
   "outputs": [
    {
     "name": "stdout",
     "output_type": "stream",
     "text": [
      "              precision    recall  f1-score   support\n",
      "\n",
      "           0       0.75      0.79      0.77       960\n",
      "           1       0.78      0.74      0.76       995\n",
      "\n",
      "    accuracy                           0.76      1955\n",
      "   macro avg       0.77      0.77      0.76      1955\n",
      "weighted avg       0.77      0.76      0.76      1955\n",
      "\n"
     ]
    }
   ],
   "source": [
    "aBoost = AdaBoostClassifier(random_state=1)\n",
    "aBoost.fit(X_train, y_train)\n",
    "y_pred = aBoost.predict(X_test)\n",
    "print(classification_report(y_test, y_pred))"
   ]
  },
  {
   "cell_type": "markdown",
   "id": "28d3085a",
   "metadata": {},
   "source": [
    "## AdaBoost Classifier with Hyperparameter Tuning"
   ]
  },
  {
   "cell_type": "code",
   "execution_count": 118,
   "id": "4daff05c",
   "metadata": {},
   "outputs": [
    {
     "name": "stdout",
     "output_type": "stream",
     "text": [
      "score:  0.768028043303006\n",
      "parameters:  {'learning_rate': 0.4, 'n_estimators': 50}\n"
     ]
    }
   ],
   "source": [
    "k_fold = 10\n",
    "# Start with an initial guess for parameters\n",
    "param_grid = {\n",
    "     'n_estimators': [2, 5, 10, 20, 30,40,50], \n",
    "    'learning_rate': (0.1,0.2,0.3,0.4,0.5),\n",
    "}\n",
    "gridSearch = GridSearchCV(AdaBoostClassifier(random_state=1), param_grid, cv=k_fold,\n",
    "                          n_jobs=-1)  # n_jobs=-1 will utilize all available CPUs \n",
    "gridSearch.fit(X_train, y_train)\n",
    "print('score: ', gridSearch.best_score_)\n",
    "print('parameters: ', gridSearch.best_params_)"
   ]
  },
  {
   "cell_type": "code",
   "execution_count": 119,
   "id": "efb4b8da",
   "metadata": {},
   "outputs": [
    {
     "name": "stdout",
     "output_type": "stream",
     "text": [
      "              precision    recall  f1-score   support\n",
      "\n",
      "           0       0.85      0.88      0.87       960\n",
      "           1       0.88      0.85      0.87       995\n",
      "\n",
      "    accuracy                           0.87      1955\n",
      "   macro avg       0.87      0.87      0.87      1955\n",
      "weighted avg       0.87      0.87      0.87      1955\n",
      "\n"
     ]
    }
   ],
   "source": [
    "ab = AdaBoostClassifier(n_estimators= 50, learning_rate= 0.4)\n",
    "ab.fit(X_train, y_train)\n",
    "y_ab = rf.predict(X_test)\n",
    "print(classification_report(y_test, y_ab))"
   ]
  },
  {
   "cell_type": "code",
   "execution_count": 120,
   "id": "d69d47fc",
   "metadata": {},
   "outputs": [
    {
     "data": {
      "text/plain": [
       "array([[848, 112],\n",
       "       [151, 844]], dtype=int64)"
      ]
     },
     "execution_count": 120,
     "metadata": {},
     "output_type": "execute_result"
    }
   ],
   "source": [
    "confusion_matrix(y_test, y_ab)"
   ]
  },
  {
   "cell_type": "markdown",
   "id": "113c44b1",
   "metadata": {},
   "source": [
    "## GradientBoost Classifier"
   ]
  },
  {
   "cell_type": "code",
   "execution_count": 121,
   "id": "018d8cc7",
   "metadata": {},
   "outputs": [
    {
     "name": "stdout",
     "output_type": "stream",
     "text": [
      "              precision    recall  f1-score   support\n",
      "\n",
      "           0       0.78      0.82      0.80       960\n",
      "           1       0.82      0.78      0.80       995\n",
      "\n",
      "    accuracy                           0.80      1955\n",
      "   macro avg       0.80      0.80      0.80      1955\n",
      "weighted avg       0.80      0.80      0.80      1955\n",
      "\n"
     ]
    }
   ],
   "source": [
    "gBoost = GradientBoostingClassifier(random_state=1)\n",
    "gBoost.fit(X_train, y_train)\n",
    "y_pred = gBoost.predict(X_test)\n",
    "print(classification_report(y_test, y_pred))"
   ]
  },
  {
   "cell_type": "markdown",
   "id": "a652fa1c",
   "metadata": {},
   "source": [
    "## Gradient Boost Classification with Hyperparameter Tuning"
   ]
  },
  {
   "cell_type": "code",
   "execution_count": 122,
   "id": "c9a29ba1",
   "metadata": {},
   "outputs": [
    {
     "name": "stdout",
     "output_type": "stream",
     "text": [
      "score:  0.8425788897846367\n",
      "parameters:  {'learning_rate': 0.1, 'max_depth': 8, 'max_features': 1.0, 'min_samples_leaf': 20}\n"
     ]
    }
   ],
   "source": [
    "k_fold = 10\n",
    "# Start with an initial guess for parameters\n",
    "param_grid = {\n",
    "    'learning_rate': [0.1, 0.05, 0.02, 0.01],\n",
    "              'max_depth': [4, 6, 8],\n",
    "              'min_samples_leaf': [20, 50,100,150],\n",
    "              'max_features': [1.0, 0.3, 0.1] \n",
    "}\n",
    "gridSearch = GridSearchCV(GradientBoostingClassifier(random_state=1), param_grid, cv=k_fold,\n",
    "                          n_jobs=-1)  # n_jobs=-1 will utilize all available CPUs \n",
    "gridSearch.fit(X_train, y_train)\n",
    "print('score: ', gridSearch.best_score_)\n",
    "print('parameters: ', gridSearch.best_params_)"
   ]
  },
  {
   "cell_type": "code",
   "execution_count": 123,
   "id": "a47e1f43",
   "metadata": {},
   "outputs": [
    {
     "name": "stdout",
     "output_type": "stream",
     "text": [
      "              precision    recall  f1-score   support\n",
      "\n",
      "           0       0.84      0.88      0.86       960\n",
      "           1       0.88      0.84      0.86       995\n",
      "\n",
      "    accuracy                           0.86      1955\n",
      "   macro avg       0.86      0.86      0.86      1955\n",
      "weighted avg       0.86      0.86      0.86      1955\n",
      "\n"
     ]
    }
   ],
   "source": [
    "gb = GradientBoostingClassifier(learning_rate = 0.1, max_depth = 8, max_features = 0.3, min_samples_leaf = 20)\n",
    "gb.fit(X_train, y_train)\n",
    "y_gb = gb.predict(X_test)\n",
    "print(classification_report(y_test, y_gb))"
   ]
  },
  {
   "cell_type": "code",
   "execution_count": 124,
   "id": "701c6a97",
   "metadata": {},
   "outputs": [
    {
     "data": {
      "text/plain": [
       "array([[843, 117],\n",
       "       [156, 839]], dtype=int64)"
      ]
     },
     "execution_count": 124,
     "metadata": {},
     "output_type": "execute_result"
    }
   ],
   "source": [
    "confusion_matrix(y_test, y_gb)"
   ]
  },
  {
   "cell_type": "markdown",
   "id": "9ed21931",
   "metadata": {},
   "source": [
    "## XGBoost Classifier"
   ]
  },
  {
   "cell_type": "code",
   "execution_count": 125,
   "id": "f453b576",
   "metadata": {},
   "outputs": [
    {
     "name": "stdout",
     "output_type": "stream",
     "text": [
      "              precision    recall  f1-score   support\n",
      "\n",
      "           0       0.86      0.88      0.87       960\n",
      "           1       0.88      0.86      0.87       995\n",
      "\n",
      "    accuracy                           0.87      1955\n",
      "   macro avg       0.87      0.87      0.87      1955\n",
      "weighted avg       0.87      0.87      0.87      1955\n",
      "\n"
     ]
    }
   ],
   "source": [
    "import xgboost as xgb\n",
    "xgBoost = xgb.XGBClassifier(random_state=1)\n",
    "xgBoost.fit(X_train, y_train)\n",
    "y_pred = xgBoost.predict(X_test)\n",
    "print(classification_report(y_test, y_pred))"
   ]
  },
  {
   "cell_type": "markdown",
   "id": "ea8435df",
   "metadata": {},
   "source": [
    "## XGBoost Classifier with Hyperparameter Tuning\n"
   ]
  },
  {
   "cell_type": "code",
   "execution_count": 126,
   "id": "2f7b5c2f",
   "metadata": {},
   "outputs": [
    {
     "name": "stdout",
     "output_type": "stream",
     "text": [
      "score:  0.848275365657031\n",
      "parameters:  {'learning_rate': 0.4, 'max_depth': 5, 'max_leaves': 1}\n"
     ]
    }
   ],
   "source": [
    "k_fold = 10\n",
    "# Start with an initial guess for parameters\n",
    "param_grid = {\n",
    "    'max_depth': (1,2,3,4,5),\n",
    "    'max_leaves': (1,2,3,4,5,6),\n",
    "    'learning_rate': (0.1,0.15,0.30,0.40),\n",
    "}\n",
    "gridSearch = GridSearchCV(XGBClassifier(random_state=1), param_grid, cv=k_fold,\n",
    "                          n_jobs=-1)  # n_jobs=-1 will utilize all available CPUs \n",
    "gridSearch.fit(X_train, y_train)\n",
    "print('score: ', gridSearch.best_score_)\n",
    "print('parameters: ', gridSearch.best_params_)"
   ]
  },
  {
   "cell_type": "code",
   "execution_count": 127,
   "id": "9be33f0c",
   "metadata": {},
   "outputs": [
    {
     "name": "stdout",
     "output_type": "stream",
     "text": [
      "              precision    recall  f1-score   support\n",
      "\n",
      "           0       0.86      0.88      0.87       960\n",
      "           1       0.88      0.86      0.87       995\n",
      "\n",
      "    accuracy                           0.87      1955\n",
      "   macro avg       0.87      0.87      0.87      1955\n",
      "weighted avg       0.87      0.87      0.87      1955\n",
      "\n"
     ]
    }
   ],
   "source": [
    "xg = XGBClassifier(learning_rate = 0.4, max_depth = 5, max_leaves = 1)\n",
    "xg.fit(X_train, y_train)\n",
    "y_xg = xg.predict(X_test)\n",
    "print(classification_report(y_test, y_xg))"
   ]
  },
  {
   "cell_type": "code",
   "execution_count": 128,
   "id": "069d39e7",
   "metadata": {},
   "outputs": [
    {
     "data": {
      "text/plain": [
       "array([[840, 120],\n",
       "       [137, 858]], dtype=int64)"
      ]
     },
     "execution_count": 128,
     "metadata": {},
     "output_type": "execute_result"
    }
   ],
   "source": [
    "confusion_matrix(y_test, y_xg)"
   ]
  },
  {
   "cell_type": "markdown",
   "id": "34788645",
   "metadata": {},
   "source": [
    "## Logistic Regression"
   ]
  },
  {
   "cell_type": "code",
   "execution_count": 129,
   "id": "8f10c081",
   "metadata": {},
   "outputs": [
    {
     "name": "stdout",
     "output_type": "stream",
     "text": [
      "              precision    recall  f1-score   support\n",
      "\n",
      "           0       0.70      0.77      0.73       960\n",
      "           1       0.75      0.68      0.72       995\n",
      "\n",
      "    accuracy                           0.73      1955\n",
      "   macro avg       0.73      0.73      0.73      1955\n",
      "weighted avg       0.73      0.73      0.73      1955\n",
      "\n"
     ]
    }
   ],
   "source": [
    "from sklearn.linear_model import LogisticRegression\n",
    "lr = LogisticRegression(random_state=1)\n",
    "lr.fit(X_train, y_train)\n",
    "y_lr = lr.predict(X_test)\n",
    "print(classification_report(y_test, y_lr))"
   ]
  },
  {
   "cell_type": "markdown",
   "id": "c8c164f3",
   "metadata": {},
   "source": [
    "## Logistic Regression through Hyperparameter Tuning "
   ]
  },
  {
   "cell_type": "code",
   "execution_count": 130,
   "id": "dd9f2b7a",
   "metadata": {},
   "outputs": [
    {
     "name": "stdout",
     "output_type": "stream",
     "text": [
      "score:  0.7228574033552151\n",
      "parameters:  {'multi_class': 'auto', 'n_jobs': None, 'penalty': 'l2'}\n"
     ]
    }
   ],
   "source": [
    "k_fold = 10\n",
    "# Start with an initial guess for parameters\n",
    "param_grid = {\n",
    "    'multi_class' : ['auto'], \n",
    "    'n_jobs': [None], \n",
    "    'penalty':  ['l2']\n",
    "}\n",
    "gridSearch = GridSearchCV(LogisticRegression(random_state=1), param_grid, cv=k_fold,\n",
    "                          n_jobs=-1)  # n_jobs=-1 will utilize all available CPUs \n",
    "gridSearch.fit(X_train, y_train)\n",
    "print('score: ', gridSearch.best_score_)\n",
    "print('parameters: ', gridSearch.best_params_)"
   ]
  },
  {
   "cell_type": "code",
   "execution_count": 131,
   "id": "0fbd63e4",
   "metadata": {},
   "outputs": [
    {
     "name": "stdout",
     "output_type": "stream",
     "text": [
      "              precision    recall  f1-score   support\n",
      "\n",
      "           0       0.70      0.77      0.73       960\n",
      "           1       0.75      0.68      0.72       995\n",
      "\n",
      "    accuracy                           0.73      1955\n",
      "   macro avg       0.73      0.73      0.73      1955\n",
      "weighted avg       0.73      0.73      0.73      1955\n",
      "\n"
     ]
    }
   ],
   "source": [
    "lr = LogisticRegression(multi_class = 'auto', n_jobs = None, penalty = 'l2')\n",
    "lr.fit(X_train, y_train)\n",
    "y_lr = lr.predict(X_test)\n",
    "print(classification_report(y_test, y_lr))"
   ]
  },
  {
   "cell_type": "code",
   "execution_count": 132,
   "id": "200ee8fb",
   "metadata": {},
   "outputs": [
    {
     "data": {
      "text/plain": [
       "array([[739, 221],\n",
       "       [315, 680]], dtype=int64)"
      ]
     },
     "execution_count": 132,
     "metadata": {},
     "output_type": "execute_result"
    }
   ],
   "source": [
    "confusion_matrix(y_test, y_lr)"
   ]
  },
  {
   "cell_type": "code",
   "execution_count": 133,
   "id": "7b83d3f0",
   "metadata": {},
   "outputs": [],
   "source": [
    "accuracies = { \n",
    "    'Models' : ['KNN', 'Decision Tree Classifier', 'Randon Forest Classifier', 'AdaBoost Classifier', 'Gradient Boosting Classifier', 'XGBClassifier','Logistic Regression'],\n",
    "    'Accuracy' : [82,87, 87, 87, 86,86,72]\n",
    "}"
   ]
  },
  {
   "cell_type": "code",
   "execution_count": 134,
   "id": "bfed81e0",
   "metadata": {},
   "outputs": [],
   "source": [
    "accuracy_df = pd.DataFrame(data = accuracies)\n",
    "accuracy_df.set_index(\"Models\", inplace = True)"
   ]
  },
  {
   "cell_type": "code",
   "execution_count": 135,
   "id": "31193583",
   "metadata": {},
   "outputs": [
    {
     "data": {
      "text/plain": [
       "Text(0.5, 0, 'Accuracies')"
      ]
     },
     "execution_count": 135,
     "metadata": {},
     "output_type": "execute_result"
    },
    {
     "data": {
      "image/png": "[encoded data removed]",
      "text/plain": [
       "<Figure size 720x576 with 1 Axes>"
      ]
     },
     "metadata": {
      "needs_background": "light"
     },
     "output_type": "display_data"
    }
   ],
   "source": [
    "accuracy_df.plot.barh(figsize = (10,8))\n",
    "plt.title(\"Models and Accuracies\")\n",
    "plt.xlabel(\"Accuracies\")"
   ]
  },
  {
   "cell_type": "code",
   "execution_count": 136,
   "id": "a1fb2b0d",
   "metadata": {},
   "outputs": [
    {
     "data": {
      "text/plain": [
       "array([[839, 121],\n",
       "       [150, 845]], dtype=int64)"
      ]
     },
     "execution_count": 136,
     "metadata": {},
     "output_type": "execute_result"
    }
   ],
   "source": [
    "## confusion matrix for decision Tree\n",
    "confusion_matrix(y_test, y_dt)"
   ]
  },
  {
   "cell_type": "markdown",
   "id": "79dcdedb",
   "metadata": {},
   "source": [
    "## Metrics comparision and best model for this Dataset\n",
    "\n",
    "Our base model has given good accuracies. We have performed Hyparameter Tuning to get the best results out of all the models.\n",
    "We have performed predictions using 7 different models and compared the results for F1 from which Random Forest, Decision Tree and AdaBoost classifiers with hyperparameter tuning has performed the best and gave the highest score as 87%.\n",
    "\n",
    "##### Base Results: \n",
    "\n",
    "\n",
    "##### Hyperparameter Tuning results:\n",
    "\n",
    "As per the confusion matrix, the False Positives and False Negatives are lesser indicating it is a good fit and infers if given a new wine brand , with the chemical properties incurred from the accuracies, we will be able to predict its accuracy with 87% and the manufacturer can increase the sales benefitting from the accuracies projected from these models.\n",
    "\n",
    "We have performed Data balancing and normalizing on the base dataset from which our model has predicted majority value of TP correctly. This does incur our model performs well with the test data.\n",
    "\n",
    "From the confusion matrix of decision tree classifier:\n",
    "\n",
    "False Positive = 111. From the dataset, it infers the quality of wine is low but is being sold for higher price . It will incur losses to the wine manufacturer and distributor. Also this percent is much less compared to the True Negative. \n",
    "\n",
    "False Negative = 150. From this dataset, it infers the quality of wine is good but is being sold for less price. It will incur losses as the manufacturer could have had high profits if the wine is sold for the price as per its quality.\n",
    "\n",
    "As result, I have choosen F1 score as my evaluation metric on Hyperparameter Tuning.\n",
    "\n",
    "##### Conclusion:\n",
    "\n",
    "From this model, we can find the quality of the wine with it's chemical properties from which wine manufactures can increase the sales and incur profits with quality wine they can predict with the chemical combinations even before manufacturing the product.\n",
    "\n",
    "\n",
    "\n",
    "\n",
    "\n",
    "\n",
    "\n",
    "\n"
   ]
  },
  {
   "cell_type": "code",
   "execution_count": null,
   "id": "2b45598f",
   "metadata": {},
   "outputs": [],
   "source": []
  }
 ],
 "metadata": {
  "kernelspec": {
   "display_name": "Python 3 (ipykernel)",
   "language": "python",
   "name": "python3"
  },
  "language_info": {
   "codemirror_mode": {
    "name": "ipython",
    "version": 3
   },
   "file_extension": ".py",
   "mimetype": "text/x-python",
   "name": "python",
   "nbconvert_exporter": "python",
   "pygments_lexer": "ipython3",
   "version": "3.9.12"
  }
 },
 "nbformat": 4,
 "nbformat_minor": 5
}
